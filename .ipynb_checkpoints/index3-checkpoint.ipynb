{
 "cells": [
  {
   "cell_type": "code",
   "execution_count": 10,
   "id": "9304cc0f-4ed4-466f-b54d-ecc754864997",
   "metadata": {},
   "outputs": [],
   "source": [
    "import funciones.frecuencias as v\n",
    "import funciones.ordenar as c\n",
    "import funciones.ordenar_clases as am\n",
    "import funciones.frecuencia_re as s\n",
    "import funciones.frecuencia_ac as l\n",
    "import funciones.ordenar_cad as z\n",
    "import funciones.formatear as ca\n",
    "\n",
    "import funciones.indices as i\n",
    "import funciones.tabla_letras as t"
   ]
  },
  {
   "cell_type": "code",
   "execution_count": 11,
   "id": "a34f72b3-576c-4daa-9022-d132eb926c05",
   "metadata": {},
   "outputs": [
    {
     "name": "stdout",
     "output_type": "stream",
     "text": [
      "\n",
      "\n",
      "    Clases  Frecuencia absoluta  Frecuencia relativa  Frecuencia relativa acumulada\n",
      "0  AMERICA                    8            26.666667                      26.666667\n",
      "1   CHIVAS                    5            16.666667                      43.333333\n",
      "2   NECAXA                    2             6.666667                      50.000000\n",
      "3    PUMAS                    8            26.666667                      76.666667\n",
      "4   SANTOS                    3            10.000000                      86.666667\n",
      "5   TOLUCA                    4            13.333333                     100.000000\n",
      "\n",
      "\n"
     ]
    }
   ],
   "source": [
    "lista = [\"Pumas\", \"América\", \"Chivas\", \"Pumas\", \"Chivas\",\n",
    "\"Chivas\", \"América\", \"Toluca\", \"Toluca\", \"Pumas\",\n",
    "\"Santos\", \"Necaxa\", \"América\", \"América\", \"América\",\n",
    "\"Pumas\", \"Santos\", \"Pumas\", \"Pumas\", \"Pumas\",\n",
    "\"América\", \"Chivas\", \"América\", \"Pumas\", \"Necaxa\",\n",
    "\"Toluca\", \"Chivas\", \"América\", \"Toluca\", \"Santos\"] \n",
    "\n",
    "datos_nuevos= ca.formateando_str(lista)\n",
    "ordenadas=z.ordenar_cadenas(datos_nuevos) \n",
    "clases, fa_absoluta= v.frec_abs(ordenadas)\n",
    "clases_sorted = c.ordenar_asc(clases)\n",
    "fa_sorted = am.sort_clases_fa(clases, clases_sorted, fa_absoluta)\n",
    "frecuencia_relativa = s.obtener_frecuencia_relativa(fa_sorted)\n",
    "frecuencia_relativa_acumulada=l.obtener_frecuencia_relativa_acumulada(frecuencia_relativa)\n",
    "marcas_clases= i.obtener_indices(clases)\n",
    "print()\n",
    "print()\n",
    "tabla=t.generar_tabla(clases, fa_sorted, frecuencia_relativa, frecuencia_relativa_acumulada)\n",
    "print()\n",
    "print()"
   ]
  }
 ],
 "metadata": {
  "kernelspec": {
   "display_name": "Python 3 (ipykernel)",
   "language": "python",
   "name": "python3"
  },
  "language_info": {
   "codemirror_mode": {
    "name": "ipython",
    "version": 3
   },
   "file_extension": ".py",
   "mimetype": "text/x-python",
   "name": "python",
   "nbconvert_exporter": "python",
   "pygments_lexer": "ipython3",
   "version": "3.9.8"
  }
 },
 "nbformat": 4,
 "nbformat_minor": 5
}
