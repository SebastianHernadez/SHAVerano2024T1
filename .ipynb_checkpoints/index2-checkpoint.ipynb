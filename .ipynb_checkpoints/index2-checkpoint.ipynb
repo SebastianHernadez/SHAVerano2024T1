{
 "cells": [
  {
   "cell_type": "code",
   "execution_count": 119,
   "id": "cfd31958-7ea8-48c5-9967-d4fa9e0301f5",
   "metadata": {},
   "outputs": [],
   "source": [
    "import math\n",
    "import funciones.frecuencias as v\n",
    "import funciones.ordenar as c\n",
    "import funciones.ordenar_clases as am\n",
    "import funciones.frecuencia_re as s\n",
    "import funciones.frecuencia_ac as l\n",
    "import funciones.clases as clas\n",
    "\n",
    "import funciones.indices as i\n",
    "import funciones.redondeo as a\n",
    "import funciones.frecuencias_clases as g\n",
    "import funciones.tabla_num as h\n",
    "\n",
    "import funciones.histograma as ht\n",
    "import funciones.ojiva as o"
   ]
  },
  {
   "cell_type": "markdown",
   "id": "ea528fba-3b75-455e-a62a-76752ac31da9",
   "metadata": {},
   "source": [
    "# ¿Qué tipo de datos se maneja en este problema?\n",
    "<p>datos cuantitativos continuos</p>"
   ]
  },
  {
   "cell_type": "code",
   "execution_count": 120,
   "id": "94c802dd-f7b0-44fb-8da1-fd4fb211f173",
   "metadata": {},
   "outputs": [
    {
     "ename": "ValueError",
     "evalue": "not enough values to unpack (expected 3, got 2)",
     "output_type": "error",
     "traceback": [
      "\u001b[1;31m---------------------------------------------------------------------------\u001b[0m",
      "\u001b[1;31mValueError\u001b[0m                                Traceback (most recent call last)",
      "Cell \u001b[1;32mIn[120], line 9\u001b[0m\n\u001b[0;32m      7\u001b[0m ordenadas\u001b[38;5;241m=\u001b[39mc\u001b[38;5;241m.\u001b[39mordenar_asc(lista) \n\u001b[0;32m      8\u001b[0m clases_sorted \u001b[38;5;241m=\u001b[39m c\u001b[38;5;241m.\u001b[39mordenar_asc(lista)\n\u001b[1;32m----> 9\u001b[0m lim_inf, lim_sup, mrks\u001b[38;5;241m=\u001b[39m a\u001b[38;5;241m.\u001b[39mcalcular_estadisticas_intervalos(ordenadas)\n\u001b[0;32m     10\u001b[0m fa\u001b[38;5;241m=\u001b[39m g\u001b[38;5;241m.\u001b[39mfa_grouped(ordenadas, lim_inf, lim_sup)\n\u001b[0;32m     11\u001b[0m \u001b[38;5;28mprint\u001b[39m (\u001b[38;5;241m1\u001b[39m \u001b[38;5;241m+\u001b[39m (\u001b[38;5;241m3.3\u001b[39m\u001b[38;5;241m*\u001b[39mmath\u001b[38;5;241m.\u001b[39mlog10(\u001b[38;5;28mlen\u001b[39m(lista))))\n",
      "\u001b[1;31mValueError\u001b[0m: not enough values to unpack (expected 3, got 2)"
     ]
    }
   ],
   "source": [
    "lista = [2.5, 4.5, 5.8, 2.2, 5.7,\n",
    "5.3, 4.0, 0.9, 2.5, 2.3,\n",
    "3.2, 4.9, 2.7, 3.7, 3.8,\n",
    "4.9, 2.8, 3.6, 4.2, 3.1,\n",
    "7.2, 1.9, 5.9, 3.3, 2.9,\n",
    "1.1, 1.7, 2.6, 3.1, 4.4,]\n",
    "ordenadas=c.ordenar_asc(lista) \n",
    "clases_sorted = c.ordenar_asc(lista)\n",
    "lim_inf, lim_sup, mrks= a.calcular_estadisticas_intervalos(ordenadas)\n",
    "fa= g.fa_grouped(ordenadas, lim_inf, lim_sup)\n",
    "print (1 + (3.3*math.log10(len(lista))))\n",
    "\n",
    "fr = s.obtener_frecuencia_relativa(fa)\n",
    "facum=l.obtener_frecuencia_relativa_acumulada(fr)\n",
    "print()\n",
    "tabla_generada = h.generar_tabla_distribucion_frecuencias(ordenadas, lim_inf, lim_sup,mrks, fa, fr, facum)\n",
    "\n",
    "print(tabla_generada)\n",
    "\n",
    "marcas_clases= i.obtener_indices(mrks)\n",
    "labelx = \"Marcas de clase\"\n",
    "labely = \"Frecuencia\"\n",
    "titulo = \"casos\"\n",
    "\n",
    "ht.generar_histograma(marcas_clases, fa, mrks, labelx, labely, titulo)\n",
    "o.generar_ojiva(marcas_clases, facum, mrks, labelx, labely, titulo)"
   ]
  }
 ],
 "metadata": {
  "kernelspec": {
   "display_name": "Python 3 (ipykernel)",
   "language": "python",
   "name": "python3"
  },
  "language_info": {
   "codemirror_mode": {
    "name": "ipython",
    "version": 3
   },
   "file_extension": ".py",
   "mimetype": "text/x-python",
   "name": "python",
   "nbconvert_exporter": "python",
   "pygments_lexer": "ipython3",
   "version": "3.9.8"
  }
 },
 "nbformat": 4,
 "nbformat_minor": 5
}
