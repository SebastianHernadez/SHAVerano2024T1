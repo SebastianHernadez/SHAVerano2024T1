{
 "cells": [
  {
   "cell_type": "code",
   "execution_count": 7,
   "id": "cfd31958-7ea8-48c5-9967-d4fa9e0301f5",
   "metadata": {},
   "outputs": [],
   "source": [
    "import funciones.frecuencias as v\n",
    "import funciones.ordenar as c\n",
    "import funciones.ordenar_clases as am\n",
    "import funciones.frecuencia_re as s\n",
    "import funciones.frecuencia_ac as l\n",
    "\n",
    "import funciones.indices as i\n",
    "import funciones.limites as m\n",
    "import funciones.frecuencias_clases as g\n",
    "import funciones.tabla_num as h"
   ]
  },
  {
   "cell_type": "code",
   "execution_count": 9,
   "id": "94c802dd-f7b0-44fb-8da1-fd4fb211f173",
   "metadata": {},
   "outputs": [
    {
     "name": "stdout",
     "output_type": "stream",
     "text": [
      "Lista ordenadas  [0.9, 1.1, 1.7, 1.9, 2.2, 2.3, 2.5, 2.5, 2.6, 2.7, 2.8, 2.9, 3.1, 3.1, 3.2, 3.3, 3.6, 3.7, 3.8, 4.0, 4.2, 4.4, 4.5, 4.9, 4.9, 5.3, 5.7, 5.8, 5.9, 7.2]\n",
      "Limites inferiores:  [0.9, 2.16, 3.42, 4.680000000000001, 5.94]\n",
      "Limites superiores:  [2.16, 3.42, 4.68, 5.94, 7.2]\n",
      "Marcas de clase:  [1.53, 2.79, 4.05, 5.3100000000000005, 6.57]\n",
      "Frecuencias absolutas agrupadas: [4, 12, 7, 6, 1]\n",
      "Frecuencia relativa: [13.333333333333334, 40.0, 23.333333333333332, 20.0, 3.3333333333333335]\n",
      "Frecuencia relativa acumulada: [13.333333333333334, 53.333333333333336, 76.66666666666667, 96.66666666666667, 100.0]\n",
      "\n",
      "| N°| LimInf | LimSup| MarcaC| fa | fr | Facum |\n",
      "|---|--------|--------|-------|----|----|-----|\n",
      "| 1 | 0.9000 | 2.1600 | 1.5300 | 4 | 13.33% | 13.33% |\n",
      "| 2 | 2.1600 | 3.4200 | 2.7900 | 12 | 40.00% | 53.33% |\n",
      "| 3 | 3.4200 | 4.6800 | 4.0500 | 7 | 23.33% | 76.67% |\n",
      "| 4 | 4.6800 | 5.9400 | 5.3100 | 6 | 20.00% | 96.67% |\n",
      "| 5 | 5.9400 | 7.2000 | 6.5700 | 1 | 3.33% | 100.00% |\n",
      "|---|--------|--------|-------|----|----|-----|\n",
      "\n"
     ]
    }
   ],
   "source": [
    "lista = [2.5, 4.5, 5.8, 2.2, 5.7,\n",
    "5.3, 4.0, 0.9, 2.5, 2.3,\n",
    "3.2, 4.9, 2.7, 3.7, 3.8,\n",
    "4.9, 2.8, 3.6, 4.2, 3.1,\n",
    "7.2, 1.9, 5.9, 3.3, 2.9,\n",
    "1.1, 1.7, 2.6, 3.1, 4.4,]\n",
    "ordenadas=c.ordenar_asc(lista) \n",
    "print(\"Lista ordenadas \",ordenadas)\n",
    "clases_sorted = c.ordenar_asc(lista)\n",
    "lim_inf, lim_sup, mrks = m.calcular_estadisticas_intervalos(ordenadas)\n",
    "print (\"Limites inferiores: \",lim_inf)\n",
    "print(\"Limites superiores: \",lim_sup)\n",
    "print(\"Marcas de clase: \", mrks)\n",
    "fa= g.fa_grouped(ordenadas, lim_inf, lim_sup)\n",
    "print(\"Frecuencias absolutas agrupadas:\", fa)\n",
    "\n",
    "fr = s.obtener_frecuencia_relativa(fa)\n",
    "print(\"Frecuencia relativa:\",fr)\n",
    "facum=l.obtener_frecuencia_relativa_acumulada(fr)\n",
    "print(\"Frecuencia relativa acumulada:\", facum)\n",
    "print()\n",
    "tabla_generada = h.generar_tabla_distribucion_frecuencias(ordenadas, lim_inf, lim_sup,mrks, fa, fr, facum)\n",
    "\n",
    "print(tabla_generada)"
   ]
  },
  {
   "cell_type": "code",
   "execution_count": null,
   "id": "77aa3f45-e7cf-4d42-b106-3e1d63de14b6",
   "metadata": {},
   "outputs": [],
   "source": []
  },
  {
   "cell_type": "code",
   "execution_count": null,
   "id": "286ac68b-804a-44d0-b42d-a49aec0dd80d",
   "metadata": {},
   "outputs": [],
   "source": []
  }
 ],
 "metadata": {
  "kernelspec": {
   "display_name": "Python 3 (ipykernel)",
   "language": "python",
   "name": "python3"
  },
  "language_info": {
   "codemirror_mode": {
    "name": "ipython",
    "version": 3
   },
   "file_extension": ".py",
   "mimetype": "text/x-python",
   "name": "python",
   "nbconvert_exporter": "python",
   "pygments_lexer": "ipython3",
   "version": "3.9.8"
  }
 },
 "nbformat": 4,
 "nbformat_minor": 5
}
